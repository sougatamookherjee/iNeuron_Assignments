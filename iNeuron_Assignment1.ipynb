{
 "cells": [
  {
   "cell_type": "raw",
   "metadata": {},
   "source": [
    "Q1. In the below elements which of them are values or an expression? eg:- values can be integer or string and expressions will be mathematical operators.\n",
    "* \n",
    "'hello'\n",
    "-87.8\n",
    "- \n",
    "/ \n",
    "+\t\n",
    "6 \n",
    "\n",
    "Ans;\n",
    "* -->> expression\n",
    "\n",
    "'hello' -->> Values\n",
    "\n",
    "-87.8 -->> Values\n",
    "\n",
    "- -->> expression\n",
    "\n",
    "/ -->> expression\n",
    "\n",
    "+ -->> expression\n",
    "\n",
    "6 -->> Values"
   ]
  },
  {
   "cell_type": "raw",
   "metadata": {},
   "source": [
    "Q2. What is the difference between string and variable?\n",
    "\n",
    "Ans; Variable -->> it is a store of information \n",
    "\n",
    "String -->> it is type of information \n",
    "\n",
    "A string is usually a word enclosed in \" \". ex x = \"Data is gold\"\n",
    "\n",
    "x is the variable and \"Data is gold\" is string."
   ]
  },
  {
   "cell_type": "raw",
   "metadata": {},
   "source": [
    "Q3. Describe three different data types.\n",
    "\n",
    "Ans; Integers -->> these are positive or negative whole numbers with no decimal points.\n",
    "\n",
    "String -->> they are sequence of charecters which are immutable.\n",
    "\n",
    "Boolean -->> represents the truth value of an expression. True or False"
   ]
  },
  {
   "cell_type": "raw",
   "metadata": {},
   "source": [
    "Q4. What is an expression made up of? What do all expressions do?\n",
    "\n",
    "Ans; Expressions are bassically represantation of values. There are three kinds of expression 1) Arithmetic expression, 2)Charecter expression & 3) Logical expression.\n",
    "\n",
    "An expression is an instruction that combines values and operators and evaluates down to a single value."
   ]
  },
  {
   "cell_type": "raw",
   "metadata": {},
   "source": [
    "Q5. This assignment statements, like spam = 10. What is the difference between an expression and a statement?\n",
    "\n",
    "Ans; Statements represent an action or command whereas Expressions are combination of variables, opeartions and values."
   ]
  },
  {
   "cell_type": "raw",
   "metadata": {},
   "source": [
    "Q6. After running the following code, what does the variable bacon contain?\n",
    "bacon = 22\n",
    "bacon + 1\n",
    "\n",
    "Ans; 22"
   ]
  },
  {
   "cell_type": "raw",
   "metadata": {},
   "source": [
    "Q7. What should the values of the following two terms be?\n",
    "'spam' + 'spamspam'\n",
    "'spam' * 3\n",
    "\n",
    "Ans; 'spam' + 'spamspam' -->> 'spamspamspam'\n",
    "\n",
    "'spam' * 3 -->> 'spamspamspam'"
   ]
  },
  {
   "cell_type": "raw",
   "metadata": {},
   "source": [
    "Q8. Why is eggs a valid variable name while 100 is invalid?\n",
    "\n",
    "Ans; Becasue variables cannot begin with a number."
   ]
  },
  {
   "cell_type": "raw",
   "metadata": {},
   "source": [
    "Q9. What three functions can be used to get the integer, floating-point number, or string version of a value?\n",
    "\n",
    "Ans; int(), float() and str()"
   ]
  },
  {
   "cell_type": "raw",
   "metadata": {},
   "source": [
    "Q10. Why does this expression cause an error? How can you fix it?\n",
    "'I have eaten ' + 99 + ' burritos.'\n",
    "\n",
    "Ans; Because it can only concatenate str to str not int(99)\n",
    "\n",
    "It can be fixed if 99 is changed to str ('99').\n",
    "\n",
    "'I have eaten ' + '99' + ' burritos.' "
   ]
  }
 ],
 "metadata": {
  "kernelspec": {
   "display_name": "Python 3",
   "language": "python",
   "name": "python3"
  },
  "language_info": {
   "codemirror_mode": {
    "name": "ipython",
    "version": 3
   },
   "file_extension": ".py",
   "mimetype": "text/x-python",
   "name": "python",
   "nbconvert_exporter": "python",
   "pygments_lexer": "ipython3",
   "version": "3.8.5"
  }
 },
 "nbformat": 4,
 "nbformat_minor": 4
}
